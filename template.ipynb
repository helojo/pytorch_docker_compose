{
 "cells": [
  {
   "cell_type": "code",
   "execution_count": null,
   "id": "fc2142d3-b37a-46da-800d-1b047592d849",
   "metadata": {},
   "outputs": [],
   "source": [
    "import platform\n",
    "import torch"
   ]
  },
  {
   "cell_type": "code",
   "execution_count": null,
   "id": "ea9d63da-8614-482b-bd31-06a2d9f1faa9",
   "metadata": {},
   "outputs": [],
   "source": [
    "# Check system\n",
    "print(\"Python version:\\t\", platform.python_version())\n",
    "print(\"Torch version:\\t\", torch.__version__)\n",
    "device = torch.device(\"cuda\" if torch.cuda.is_available() else \"cpu\")\n",
    "print(\"Torch device:\\t\", device)"
   ]
  }
 ],
 "metadata": {
  "kernelspec": {
   "display_name": "Python 3 (ipykernel)",
   "language": "python",
   "name": "python3"
  },
  "language_info": {
   "codemirror_mode": {
    "name": "ipython",
    "version": 3
   },
   "file_extension": ".py",
   "mimetype": "text/x-python",
   "name": "python",
   "nbconvert_exporter": "python",
   "pygments_lexer": "ipython3",
   "version": "3.9.7"
  }
 },
 "nbformat": 4,
 "nbformat_minor": 5
}
