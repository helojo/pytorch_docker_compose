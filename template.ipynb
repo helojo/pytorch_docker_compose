{
 "cells": [
  {
   "cell_type": "code",
   "execution_count": null,
   "id": "fc2142d3-b37a-46da-800d-1b047592d849",
   "metadata": {},
   "outputs": [],
   "source": [
    "import os\n",
    "import platform\n",
    "import torch\n",
    "from torch.utils.tensorboard import SummaryWriter"
   ]
  },
  {
   "cell_type": "markdown",
   "id": "3f0d3232-eb46-4436-bf54-429e997b2760",
   "metadata": {},
   "source": [
    "# Check system"
   ]
  },
  {
   "cell_type": "code",
   "execution_count": null,
   "id": "ea9d63da-8614-482b-bd31-06a2d9f1faa9",
   "metadata": {},
   "outputs": [],
   "source": [
    "print(\"Python version:\\t\", platform.python_version())\n",
    "print(\"Torch version:\\t\", torch.__version__)\n",
    "device = torch.device(\"cuda\" if torch.cuda.is_available() else \"cpu\")\n",
    "print(\"Torch device:\\t\", device)"
   ]
  },
  {
   "cell_type": "markdown",
   "id": "dfa9d905-7ab3-4f41-834c-32fa9e72edf5",
   "metadata": {},
   "source": [
    "# Launch Tensorboard"
   ]
  },
  {
   "cell_type": "code",
   "execution_count": null,
   "id": "e0dae018-0f31-4d01-9e2b-8b8abcdd1a67",
   "metadata": {},
   "outputs": [],
   "source": [
    "WRITER_DIRECTORY = \"graphs/test\"\n",
    "os.makedirs(WRITER_DIRECTORY, exist_ok=True)\n",
    "writer = SummaryWriter(WRITER_DIRECTORY)\n",
    "print(\"Writer open\")"
   ]
  },
  {
   "cell_type": "code",
   "execution_count": null,
   "id": "3f0294b2-71b7-44c5-a26f-8ebef83414ed",
   "metadata": {},
   "outputs": [],
   "source": [
    "%%capture\n",
    "%load_ext tensorboard\n",
    "%tensorboard --logdir graphs --host 0.0.0.0"
   ]
  },
  {
   "cell_type": "markdown",
   "id": "b8fc665e-afeb-4a35-bf03-f45325f92fcf",
   "metadata": {},
   "source": [
    "Open http://localhost:6006"
   ]
  }
 ],
 "metadata": {
  "kernelspec": {
   "display_name": "Python 3 (ipykernel)",
   "language": "python",
   "name": "python3"
  },
  "language_info": {
   "codemirror_mode": {
    "name": "ipython",
    "version": 3
   },
   "file_extension": ".py",
   "mimetype": "text/x-python",
   "name": "python",
   "nbconvert_exporter": "python",
   "pygments_lexer": "ipython3",
   "version": "3.9.10"
  }
 },
 "nbformat": 4,
 "nbformat_minor": 5
}
