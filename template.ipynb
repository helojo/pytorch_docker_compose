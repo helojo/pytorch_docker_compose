{
 "cells": [
  {
   "cell_type": "code",
   "execution_count": null,
   "id": "4f4a31af-2013-494b-8c62-8c1a1d4b58c2",
   "metadata": {},
   "outputs": [],
   "source": [
    "import platform\n",
    "import torch"
   ]
  },
  {
   "cell_type": "code",
   "execution_count": null,
   "id": "2d8154bc-d712-4c1c-aee5-c1b05251cbc6",
   "metadata": {},
   "outputs": [],
   "source": [
    "# Check system\n",
    "print(\"Python version:\\t\", platform.python_version())\n",
    "print(\"Torch version:\\t\", torch.__version__)\n",
    "device = torch.device(\"cuda\" if torch.cuda.is_available() else \"cpu\")\n",
    "print(\"Torch device:\\t\", device)\n"
   ]
  },
  {
   "cell_type": "code",
   "execution_count": null,
   "id": "a2ddcefa-9467-4147-b872-1e1c52eb334b",
   "metadata": {},
   "outputs": [],
   "source": []
  }
 ],
 "metadata": {
  "kernelspec": {
   "display_name": "Python 3 (ipykernel)",
   "language": "python",
   "name": "python3"
  },
  "language_info": {
   "codemirror_mode": {
    "name": "ipython",
    "version": 3
   },
   "file_extension": ".py",
   "mimetype": "text/x-python",
   "name": "python",
   "nbconvert_exporter": "python",
   "pygments_lexer": "ipython3",
   "version": "3.9.10"
  }
 },
 "nbformat": 4,
 "nbformat_minor": 5
}
